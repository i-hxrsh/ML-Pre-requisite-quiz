{
  "nbformat": 4,
  "nbformat_minor": 0,
  "metadata": {
    "colab": {
      "provenance": []
    },
    "kernelspec": {
      "name": "python3",
      "display_name": "Python 3"
    },
    "language_info": {
      "name": "python"
    }
  },
  "cells": [
    {
      "cell_type": "markdown",
      "source": [
        "1. There will be nxm elements in the new matrix obtained. For each element, there will be k multiplications and then the addition of the k products obtained from the k multiplications, i.e., k multiplication and k-1 additions for each of the nxm elements. Hence total multiplications are : (nxm)*k and (nxm)*(k-1). "
      ],
      "metadata": {
        "id": "IPss2GCsb-vu"
      }
    },
    {
      "cell_type": "markdown",
      "source": [
        "2. For multiplication of nxk (say A) and kxm (say B) matrices, the following is the code: "
      ],
      "metadata": {
        "id": "0a28dsm5cLFK"
      }
    },
    {
      "cell_type": "code",
      "source": [
        "import time\n",
        "import numpy as np\n",
        "A = [[1, 2, 3],\n",
        "     [1, 2, 3],\n",
        "     [1, 2, 3]]\n",
        "B = [[3, 4, 5],\n",
        "     [3, 4, 5],\n",
        "     [3, 4, 5]]\n",
        "\n",
        "n=3\n",
        "m=3\n",
        "k=3\n",
        "\n",
        "#initialize empty C array\n",
        "C = []\n",
        "for i in range(n):\n",
        "    row = []\n",
        "    for j in range(m):\n",
        "        row.append(0)\n",
        "    C.append(row)\n",
        "\n",
        "#time_taken array stores all the values of time taken for 1000 iterations for purpose of finding mean and standard deviation\n",
        "time_taken=np.empty(1000)\n",
        "\n",
        "for i in range(1000):\n",
        "  start_time = time.time()\n",
        "  #iterative multiplication starts here\n",
        "  for i in range(n):\n",
        "      for j in range(m):\n",
        "          for l in range(k):\n",
        "              C[i][j] += A[i][l] * B[l][j]\n",
        "  end_time = time.time()\n",
        "  time_taken[i]=(end_time-start_time)\n",
        "  \n",
        "print(\"Mean time taken\", time_taken.mean())\n",
        "print(\"Standard Deviation for the time taken\", time_taken.std())\n",
        "\n"
      ],
      "metadata": {
        "colab": {
          "base_uri": "https://localhost:8080/"
        },
        "id": "ZNgQGfgBcesT",
        "outputId": "e588220a-e640-4a1d-f024-6adbf62ef476"
      },
      "execution_count": 38,
      "outputs": [
        {
          "output_type": "stream",
          "name": "stdout",
          "text": [
            "Mean time taken 2.349409860075027e-06\n",
            "Standard Deviation for the time taken 7.374025652717783e-05\n"
          ]
        }
      ]
    },
    {
      "cell_type": "markdown",
      "source": [
        "Using numpy: "
      ],
      "metadata": {
        "id": "Onc2wx53L_r_"
      }
    },
    {
      "cell_type": "code",
      "source": [
        "import numpy as np\n",
        "import time\n",
        "\n",
        "\n",
        "A = np.array([[1, 2, 3],\n",
        "              [1, 2, 3],\n",
        "              [1, 2, 3]])\n",
        "B = np.array([[3, 4, 5],\n",
        "              [3, 4, 5],\n",
        "              [3, 4, 5]])\n",
        "\n",
        "#time_taken array stores all the values of time taken for 1000 iterations for purpose of finding mean and standard deviation\n",
        "\n",
        "time_taken=np.empty(1000)\n",
        "\n",
        "for i in range(1000):\n",
        "  start_time = time.time()\n",
        "  C = np.dot(A, B)\n",
        "  end_time = time.time()\n",
        "  time_taken[i]=(end_time-start_time)\n",
        "print(\"Mean time taken\", time_taken.mean())\n",
        "print(\"Standard Deviation for the time taken\", time_taken.std())\n",
        "\n",
        "\n"
      ],
      "metadata": {
        "colab": {
          "base_uri": "https://localhost:8080/"
        },
        "id": "CzVU_5oBMBAn",
        "outputId": "fb8f9212-4854-46e3-8627-54128bacbc6d"
      },
      "execution_count": 4,
      "outputs": [
        {
          "output_type": "stream",
          "name": "stdout",
          "text": [
            "Mean time taken 6.0956478118896485e-06\n",
            "Standard Deviation for the time taken 7.575308879584187e-05\n"
          ]
        }
      ]
    },
    {
      "cell_type": "markdown",
      "source": [
        "Result for matrix of size 3x3 is the following: \n",
        "\n",
        "\n",
        "Now, let's take a larger matrix"
      ],
      "metadata": {
        "id": "85zWuANUMdIE"
      }
    },
    {
      "cell_type": "code",
      "source": [
        "import time\n",
        "\n",
        "n=50\n",
        "m=50\n",
        "k=50\n",
        "\n",
        "A=[]\n",
        "B=[]\n",
        "C = []\n",
        "#initialization of arrays\n",
        "for i in range(n):\n",
        "    row = []\n",
        "    row2=[]\n",
        "    for j in range(m):\n",
        "        row.append(0)\n",
        "        row2.append(j)\n",
        "    C.append(row)\n",
        "    A.append(row2)\n",
        "    B.append(row2)\n",
        "\n",
        "#time_taken array stores all the values of time taken for 1000 iterations for purpose of finding mean and standard deviation\n",
        "time_taken=np.empty(1000)\n",
        "\n",
        "for i in range(1000):\n",
        "  start_time = time.time()\n",
        "  for i in range(n):\n",
        "      for j in range(m):\n",
        "          for l in range(k):\n",
        "              C[i][j] += A[i][l] * B[l][j]\n",
        "  end_time = time.time()\n",
        "  time_taken[i]=(end_time-start_time)\n",
        "\n",
        "print(\"Mean time taken\", time_taken.mean())\n",
        "print(\"Standard Deviation for the time taken\", time_taken.std())\n"
      ],
      "metadata": {
        "id": "zP53Ot-XOFXq",
        "colab": {
          "base_uri": "https://localhost:8080/"
        },
        "outputId": "56fa58b0-e479-438b-cbba-0d55c0b8f464"
      },
      "execution_count": 39,
      "outputs": [
        {
          "output_type": "stream",
          "name": "stdout",
          "text": [
            "Mean time taken 5.031085577294895e-05\n",
            "Standard Deviation for the time taken 0.0015901730911904932\n"
          ]
        }
      ]
    },
    {
      "cell_type": "code",
      "source": [
        "import numpy as np\n",
        "import time\n",
        "\n",
        "#initialization of array\n",
        "A = np.zeros((50, 50))\n",
        "B = np.zeros((50, 50))\n",
        "for i in range(50):\n",
        "    for j in range(50):\n",
        "        A[i][j] = j\n",
        "        B[i][j] = j\n",
        "#time_taken array stores all the values of time taken for 1000 iterations for purpose of finding mean and standard deviation\n",
        "time_taken=np.empty(1000)\n",
        "\n",
        "for i in range(1000):\n",
        "  start_time = time.time()\n",
        "  C = np.dot(A, B)\n",
        "  end_time = time.time()\n",
        "  time_taken[i]=(end_time-start_time)\n",
        "\n",
        "print(\"Mean time taken\", time_taken.mean())\n",
        "print(\"Standard Deviation for the time taken\", time_taken.std())\n"
      ],
      "metadata": {
        "colab": {
          "base_uri": "https://localhost:8080/"
        },
        "id": "VMdwEdQyON5w",
        "outputId": "c2e9d72b-fd34-4d70-f4d5-27ab6b4c5c75"
      },
      "execution_count": 36,
      "outputs": [
        {
          "output_type": "stream",
          "name": "stdout",
          "text": [
            "Mean time taken 1.7846822738647462e-05\n",
            "Standard Deviation for the time taken 3.5968934980290746e-05\n"
          ]
        }
      ]
    },
    {
      "cell_type": "markdown",
      "source": [
        "We can clearly see the following result\n",
        "\n",
        "1.   For smaller matrix iterative process takes lower time\n",
        "2.   For larger matrix numpy.dot method uses lower time\n",
        "\n",
        "\n",
        "This is because numpy.dot uses a highly optimized multiplication method which makes it faster. Further these functions are implemented in a faster low level language like C which improves its performance\n",
        "\n"
      ],
      "metadata": {
        "id": "04gHGLXQPIZ_"
      }
    },
    {
      "cell_type": "markdown",
      "source": [
        "3. Finding the highest element in a list requires one pass of the array. Finding the second highest element requires 2 passes of the the array. Using this method,  the time complexity of finding the median of the array is O(n^2). \n",
        "Reason: If n is even, we need to find both n/2 and n/2+1th highest element. It takes total n/2+1 passes to find them. Each pass takes O(n) time. Hence total time is  O(n*(n/2+1)) which is also O(n^2). \n",
        "Similary if n is uneven, we need to find the (n+1)/2 th element which takes (n+1)/2 passes, each of O(n) time. Hence again we obtain time complexity O(n^2). \n",
        "\n",
        "A better method is to sort the array using merge/quick sort which takes O(nlogn) time and then find the middle elements of the array in O(1) time. Hence, in total it has complexity O(nlogn). \n",
        "Let's take n=101 for example. "
      ],
      "metadata": {
        "id": "gexr5MjfPajo"
      }
    },
    {
      "cell_type": "code",
      "source": [
        "\n",
        "import random\n",
        "import math\n",
        "import numpy as np\n",
        "import time\n",
        "\n",
        "#intialization of array\n",
        "n=random.randint(0,20)\n",
        "arr=np.empty(n)\n",
        "median=0\n",
        "for i in range(n):\n",
        "  arr[i]=(random.randint(0,1000))\n",
        "A=arr.copy()\n",
        "\n",
        "med1=0\n",
        "med2=0\n",
        "\n",
        "#time_taken array stores all the values of time taken for 1000 iterations for purpose of finding mean and standard deviation\n",
        "time_taken=np.empty(1000)\n",
        "\n",
        "for i in range(1000):\n",
        "  \n",
        "  start_time = time.time()\n",
        "  #if number of elements is even\n",
        "  if(n%2==0):\n",
        "    for i in range ((n//2)+1):\n",
        "      index=0\n",
        "      max=A[0]\n",
        "      for j in range(n):\n",
        "        if(A[j]>max):\n",
        "          max=A[j]\n",
        "          index=j\n",
        "          A[index]=-1*math.inf\n",
        "      if(i==n//2-1):\n",
        "        med1=max\n",
        "      if(i==n//2):\n",
        "        med2=max\n",
        "    median=((med1+med2)/2) \n",
        "  #if number of elements is odd\n",
        "  else:\n",
        "    for i in range (((n+1)//2)):\n",
        "      index=0\n",
        "      max=A[0]\n",
        "      for j in range(n):\n",
        "        if(A[j]>max):\n",
        "          max=A[j]\n",
        "          index=j\n",
        "          A[index]=-1*math.inf\n",
        "      if(i==(n+1)//2-1):\n",
        "        med1=max\n",
        "    median=(med1)\n",
        "  end_time = time.time()\n",
        "  time_taken[i]=(end_time-start_time)\n",
        "print(\"Median is \", median)\n",
        "print(\"Mean time taken\", time_taken.mean())\n",
        "print(\"Standard Deviation for the time taken\", time_taken.std())\n",
        "\n"
      ],
      "metadata": {
        "id": "Hmv8_T6uQpoB",
        "colab": {
          "base_uri": "https://localhost:8080/"
        },
        "outputId": "cec95d1f-6a82-488b-a930-b1d86e7ae064"
      },
      "execution_count": 16,
      "outputs": [
        {
          "output_type": "stream",
          "name": "stdout",
          "text": [
            "Median is  836.0\n",
            "Mean time taken 2.982110863743799e-08\n",
            "Standard Deviation for the time taken 9.344179913179309e-07\n"
          ]
        }
      ]
    },
    {
      "cell_type": "code",
      "source": [
        "#Faster sorting method\n",
        "A=arr.copy()\n",
        "time_taken=np.empty(1000)\n",
        "\n",
        "for i in range(1000):\n",
        "  start_time = time.time()\n",
        "  A.sort()\n",
        "  if(n%2==0):\n",
        "    median=((A[n//2-1]+A[n//2])/2)\n",
        "  else:\n",
        "    median=(A[n//2])\n",
        "  end_time = time.time()\n",
        "  time_taken[i]=(end_time-start_time)\n",
        "\n",
        "print(\"Median is \", median)\n",
        "print(\"Mean time taken\", time_taken.mean())\n",
        "print(\"Standard Deviation for the time taken\", time_taken.std())\n"
      ],
      "metadata": {
        "id": "h7a17lucGUzF",
        "colab": {
          "base_uri": "https://localhost:8080/"
        },
        "outputId": "f6643744-c5d7-40ff-ecbc-ab5adef7e10e"
      },
      "execution_count": 17,
      "outputs": [
        {
          "output_type": "stream",
          "name": "stdout",
          "text": [
            "Median is  778.0\n",
            "Mean time taken 2.568960189819336e-06\n",
            "Standard Deviation for the time taken 8.907594994927313e-06\n"
          ]
        }
      ]
    },
    {
      "cell_type": "code",
      "source": [
        "#np.median method\n",
        "time_taken=np.empty(1000)\n",
        "median=0\n",
        "for i in range(1000):\n",
        "  start_time = time.time()\n",
        "  median = np.median(arr)\n",
        "  end_time = time.time()\n",
        "  time_taken[i]=(end_time-start_time)\n",
        "print(\"Median is \", median)\n",
        "print(\"Mean time taken\", time_taken.mean())\n",
        "print(\"Standard Deviation for the time taken\", time_taken.std())\n"
      ],
      "metadata": {
        "id": "41JVYvTJHj9K",
        "colab": {
          "base_uri": "https://localhost:8080/"
        },
        "outputId": "adef5996-cd1d-4d82-ac6e-ee1441818857"
      },
      "execution_count": 15,
      "outputs": [
        {
          "output_type": "stream",
          "name": "stdout",
          "text": [
            "Median is  426.0\n",
            "Mean time taken 3.937840461730957e-05\n",
            "Standard Deviation for the time taken 5.3828378724341134e-05\n"
          ]
        }
      ]
    },
    {
      "cell_type": "markdown",
      "source": [
        "4. Differntiation of x^2y+ (y^3)sin(x) with respect to x is: \n",
        "\n",
        "        2xy+(y^3)cos(x)\n",
        "\n",
        "   Differntiation of x^2y+ (y^3)sin(x) with respect to x is: \n",
        "\n",
        "        x^2+(3y^2)sin(x)\n",
        "  Hence the gradient is: \n",
        "\n",
        "  [2xy+(y^3)cos(x), x^2+(3y^2)sin(x)]"
      ],
      "metadata": {
        "id": "lF5dGh5oSuaP"
      }
    },
    {
      "cell_type": "code",
      "source": [
        "import jax.numpy as jnp\n",
        "from jax import grad\n",
        "from math import sin,cos\n",
        "def f(x, y):\n",
        "  return x**2 * y + y**3 * jnp.sin(x)\n",
        "\n",
        "def f_derv_x(x,y):\n",
        "  return  2*x*y+(y**3)*cos(x)\n",
        "def f_derv_y(x,y):\n",
        "  return  x**2+(3*y**2)*sin(x)\n",
        "\n",
        "#Let's compare the gradient obtained by jax and our derived formula at (1,2)\n",
        "a,b=grad(f,argnums=(0,1))(1.0,2.0)\n",
        "\n",
        "print(\"(\",a,\",\",b,\")\")\n",
        "print(\"(\",f_derv_x(1,2),\",\",f_derv_y(1,2),\")\")\n"
      ],
      "metadata": {
        "id": "zGIDpNPvTyiI",
        "colab": {
          "base_uri": "https://localhost:8080/"
        },
        "outputId": "85666678-f3f9-44e7-9465-3c3cd276e1f4"
      },
      "execution_count": 64,
      "outputs": [
        {
          "output_type": "stream",
          "name": "stdout",
          "text": [
            "( 8.322418 , 11.0976515 )\n",
            "( 8.322418446945118 , 11.097651817694757 )\n"
          ]
        }
      ]
    },
    {
      "cell_type": "markdown",
      "source": [
        "We can see that our derived gradient matches with the JAX's derived gradient."
      ],
      "metadata": {
        "id": "vFweKla4ED3i"
      }
    },
    {
      "cell_type": "code",
      "source": [
        "import sympy\n",
        "x,y = sympy.symbols('x y')\n",
        "\n",
        "f=(x**2)*y + (y**3)*sympy.sin(x)\n",
        "\n",
        "f_grad =sympy.diff(f,x), sympy.diff(f,y)\n",
        "\n",
        "print(f_grad)  \n"
      ],
      "metadata": {
        "colab": {
          "base_uri": "https://localhost:8080/"
        },
        "id": "7yHMw7m-AiM5",
        "outputId": "23f06ea1-c29f-4486-cbd3-76bd4ec44dd8"
      },
      "execution_count": 49,
      "outputs": [
        {
          "output_type": "stream",
          "name": "stdout",
          "text": [
            "(2*x*y + y**3*cos(x), x**2 + 3*y**2*sin(x))\n"
          ]
        }
      ]
    },
    {
      "cell_type": "markdown",
      "source": [
        "We can see that sympy shows the same formula we derived above"
      ],
      "metadata": {
        "id": "VSOJjAsJEJra"
      }
    },
    {
      "cell_type": "markdown",
      "source": [
        "7.\n",
        "Let the data be: \n",
        "\n",
        "2022:\n",
        "    Branch 1\n",
        "      Roll Number: 1, Name: N, Marks:\n",
        "      Maths: 100, English: 70 …\n",
        "    Branch 2\n",
        "2023\n",
        "    Branch 1\n",
        "    Branch 2\n",
        "2024\n",
        "    Branch 1\n",
        "    Branch 2\n",
        "2025\n",
        "    Branch 1\n",
        "    Branch 2\n"
      ],
      "metadata": {
        "id": "cwVmyDWyA3xx"
      }
    },
    {
      "cell_type": "code",
      "source": [
        "Marks_rn_1_b1_2022={\"Maths\":100, \"English\":70}\n",
        "\n",
        "S_1_b1_2022={\"Roll Number\":1,\"Name\":\"N\",\"Marks\":Marks_rn_1_b1_2022}\n",
        "\n",
        "branch_1_2022={\"S1\":S_1_b1_2022}\n",
        "branch_1_2023={}\n",
        "branch_1_2024={}\n",
        "branch_1_2025={}\n",
        "\n",
        "branch_2_2022={}\n",
        "branch_2_2023={}\n",
        "branch_2_2024={}\n",
        "branch_2_2025={}\n",
        "\n",
        "dict_2022={\"Branch 1\": branch_1_2022,\"Branch 2\": branch_2_2022}\n",
        "dict_2023={\"Branch 1\": branch_1_2023,\"Branch 2\": branch_2_2023}\n",
        "dict_2024={\"Branch 1\": branch_1_2024,\"Branch 2\": branch_2_2024}\n",
        "dict_2025={\"Branch 1\": branch_1_2025,\"Branch 2\": branch_2_2025}\n",
        "\n",
        "main_dict={2022:dict_2022,2023:dict_2023,2024:dict_2024,2025:dict_2025}\n",
        "\n",
        "print(main_dict)"
      ],
      "metadata": {
        "colab": {
          "base_uri": "https://localhost:8080/"
        },
        "id": "JA-fjapDAt1A",
        "outputId": "7cffdbde-3309-4ed4-f9b3-5efc460b84ac"
      },
      "execution_count": 18,
      "outputs": [
        {
          "output_type": "stream",
          "name": "stdout",
          "text": [
            "{2022: {'Branch 1': {'S1': {'Roll Number': 1, 'Name': 'N', 'Marks': {'Maths': 100, 'English': 70}}}, 'Branch 2': {}}, 2023: {'Branch 1': {}, 'Branch 2': {}}, 2024: {'Branch 1': {}, 'Branch 2': {}}, 2025: {'Branch 1': {}, 'Branch 2': {}}}\n"
          ]
        }
      ]
    },
    {
      "cell_type": "code",
      "source": [
        "class Year:\n",
        "\n",
        "  def __init__(self, year):\n",
        "    self.year = year\n",
        "  def branch(self, branch):\n",
        "    self.branch= branch\n",
        "class Branch:\n",
        "  def __init__(self,branch):\n",
        "    self.branch=branch\n",
        "  def student(self, student):  \n",
        "    self.student=student\n",
        "class Student:\n",
        "  def __init__(self,number):\n",
        "    self.number=number\n",
        "  def name(self,name):\n",
        "    self.name=name\n",
        "  def rollnumber(self, rollnumber):\n",
        "    self.rollnumber=rollnumber\n",
        "  def marks(self,marks):\n",
        "    self.marks=marks\n",
        "\n",
        "d1=Year(2022)\n",
        "d2=Year(2023)\n",
        "d3=Year(2024)\n",
        "d4=Year(2025)\n",
        "\n",
        "dataset=[d1,d2,d3,d4]\n",
        "\n",
        "b11=Branch(\"Branch1\")\n",
        "b12=Branch(\"Branch2\")\n",
        "b21=Branch(\"Branch1\")\n",
        "b22=Branch(\"Branch2\")\n",
        "b31=Branch(\"Branch1\")\n",
        "b32=Branch(\"Branch2\")\n",
        "b41=Branch(\"Branch1\")\n",
        "b42=Branch(\"Branch2\")\n",
        "\n",
        "d1.branch=[b11,b12]\n",
        "d2.branch=[b21,b22]\n",
        "d3.branch=[b31,b32]\n",
        "d4.branch=[b41,b42]\n",
        "\n",
        "s1=Student(1)\n",
        "b11.student=[s1]\n",
        "\n",
        "s1.name=\"N\"\n",
        "s1.rollnumber=1\n",
        "s1.marks=[(\"Maths\",100),(\"English\",70)]\n"
      ],
      "metadata": {
        "id": "oLJRCn9-nrlW"
      },
      "execution_count": 19,
      "outputs": []
    },
    {
      "cell_type": "code",
      "source": [
        "import numpy as np\n",
        "import pandas as pd\n",
        "import math \n",
        "#creating matrix\n",
        "mat=np.random.uniform(low=1 , high=2, size=(20,5))\n",
        "#creating dataframe and renaming the columns\n",
        "df=pd.DataFrame(mat)\n",
        "df.rename(columns = {0:'A',1:'B',2:'C',3:'D',4:'E'}, inplace = True)\n",
        "\n",
        "#taking mean and standard deviation\n",
        "(n,m)=df.shape\n",
        "std_df=df.std()\n",
        "mean_df=df.mean(axis=1)\n",
        "\n",
        "\n",
        "print(df)\n",
        "# print(std_df)\n",
        "print(\"Column with highest standard deviation is :\", std_df.idxmax())\n",
        "# print(mean_df)\n",
        "print(\"Row with lowest mean is\", mean_df.idxmin())"
      ],
      "metadata": {
        "colab": {
          "base_uri": "https://localhost:8080/"
        },
        "id": "tmseUnTIUU-Q",
        "outputId": "31e31e5d-f7cd-48b0-d897-0e5fd57a8eeb"
      },
      "execution_count": 23,
      "outputs": [
        {
          "output_type": "stream",
          "name": "stdout",
          "text": [
            "           A         B         C         D         E\n",
            "0   1.685452  1.001820  1.201654  1.338409  1.085382\n",
            "1   1.227888  1.131602  1.124476  1.399264  1.114804\n",
            "2   1.126808  1.287028  1.837198  1.863688  1.087339\n",
            "3   1.187789  1.237958  1.696591  1.914299  1.294772\n",
            "4   1.642745  1.775519  1.886276  1.477210  1.239489\n",
            "5   1.188469  1.532307  1.781753  1.003130  1.925697\n",
            "6   1.663249  1.540834  1.245999  1.188417  1.576146\n",
            "7   1.989496  1.733067  1.230390  1.498167  1.167133\n",
            "8   1.284412  1.209556  1.915238  1.791699  1.883297\n",
            "9   1.297148  1.555330  1.488148  1.105752  1.049201\n",
            "10  1.278797  1.453682  1.609106  1.361486  1.823882\n",
            "11  1.285667  1.584387  1.648560  1.764491  1.666132\n",
            "12  1.390281  1.804815  1.271206  1.477839  1.872471\n",
            "13  1.125848  1.300326  1.072750  1.792248  1.265137\n",
            "14  1.705599  1.199971  1.019904  1.755109  1.153781\n",
            "15  1.334258  1.024790  1.080399  1.833834  1.772263\n",
            "16  1.811672  1.936273  1.512681  1.805864  1.701035\n",
            "17  1.315928  1.348750  1.970061  1.260769  1.496737\n",
            "18  1.019051  1.346339  1.635431  1.571956  1.592188\n",
            "19  1.428679  1.851805  1.598492  1.343952  1.062297\n",
            "Column with highest standard deviation is : E\n",
            "Row with lowest mean is 1\n"
          ]
        }
      ]
    },
    {
      "cell_type": "code",
      "source": [
        "df['F']=df.iloc[:, 0: 5].sum(axis=1)\n",
        "#locate rows with sum less than and greater than equal to 8 respectively\n",
        "df.loc[df[\"F\"] < 8 , \"G\"] = \"LT8\"\n",
        "df.loc[df[\"F\"] >= 8 , \"G\"] = \"GT8\"\n",
        "print(\"Number of sums less than 8\", df.loc[df[\"G\"]==\"LT8\",\"G\"].size)\n",
        "print(\"Number of sums greater than 8\", df.loc[df[\"G\"]==\"GT8\",\"G\"].size)\n",
        "\n",
        "print(\"Standard deviation for LT8\", df.loc[df[\"G\"]==\"LT8\",\"F\"].std())\n",
        "print(\"Standard deviation for GT8\",df.loc[df[\"G\"]==\"GT8\",\"F\"].std())\n",
        "print(df)"
      ],
      "metadata": {
        "colab": {
          "base_uri": "https://localhost:8080/"
        },
        "id": "TXiDMmmVblqk",
        "outputId": "18e80e19-9a7a-4f24-b4b1-e2c79f6cbe2a"
      },
      "execution_count": 27,
      "outputs": [
        {
          "output_type": "stream",
          "name": "stdout",
          "text": [
            "Number of sums less than 8 17\n",
            "Number of sums greater than 8 3\n",
            "Standard deviation for LT8 0.5333709615766323\n",
            "Standard deviation for GT8 0.41389078761166104\n",
            "           A         B         C         D         E         F    G\n",
            "0   1.685452  1.001820  1.201654  1.338409  1.085382  6.312717  LT8\n",
            "1   1.227888  1.131602  1.124476  1.399264  1.114804  5.998033  LT8\n",
            "2   1.126808  1.287028  1.837198  1.863688  1.087339  7.202062  LT8\n",
            "3   1.187789  1.237958  1.696591  1.914299  1.294772  7.331410  LT8\n",
            "4   1.642745  1.775519  1.886276  1.477210  1.239489  8.021238  GT8\n",
            "5   1.188469  1.532307  1.781753  1.003130  1.925697  7.431356  LT8\n",
            "6   1.663249  1.540834  1.245999  1.188417  1.576146  7.214645  LT8\n",
            "7   1.989496  1.733067  1.230390  1.498167  1.167133  7.618253  LT8\n",
            "8   1.284412  1.209556  1.915238  1.791699  1.883297  8.084203  GT8\n",
            "9   1.297148  1.555330  1.488148  1.105752  1.049201  6.495579  LT8\n",
            "10  1.278797  1.453682  1.609106  1.361486  1.823882  7.526954  LT8\n",
            "11  1.285667  1.584387  1.648560  1.764491  1.666132  7.949238  LT8\n",
            "12  1.390281  1.804815  1.271206  1.477839  1.872471  7.816612  LT8\n",
            "13  1.125848  1.300326  1.072750  1.792248  1.265137  6.556308  LT8\n",
            "14  1.705599  1.199971  1.019904  1.755109  1.153781  6.834364  LT8\n",
            "15  1.334258  1.024790  1.080399  1.833834  1.772263  7.045544  LT8\n",
            "16  1.811672  1.936273  1.512681  1.805864  1.701035  8.767524  GT8\n",
            "17  1.315928  1.348750  1.970061  1.260769  1.496737  7.392244  LT8\n",
            "18  1.019051  1.346339  1.635431  1.571956  1.592188  7.164965  LT8\n",
            "19  1.428679  1.851805  1.598492  1.343952  1.062297  7.285225  LT8\n"
          ]
        }
      ]
    },
    {
      "cell_type": "markdown",
      "source": [
        "9.\n",
        "\n",
        "Using matplot library to plot the functions: \n"
      ],
      "metadata": {
        "id": "_iDVB2XtWY3P"
      }
    },
    {
      "cell_type": "code",
      "source": [
        "import numpy as np\n",
        "import matplotlib.pyplot as plt\n",
        "\n",
        "arr1=np.arange(0.5,100.5, 0.5)\n",
        "\n",
        "#y=x\n",
        "def f1(arr):\n",
        "\n",
        "  return arr\n",
        "#y=x^2\n",
        "def f2(arr):\n",
        "\n",
        "  return np.square(arr)\n",
        "\n",
        "#y=x^3/100\n",
        "def f3(arr):\n",
        "\n",
        "  arr_temp= np.power(arr,3)\n",
        "  \n",
        "  return arr_temp/100.\n",
        "\n",
        "#y=sin(x)\n",
        "def f4(arr):\n",
        "\n",
        "  return np.sin(arr)\n",
        "\n",
        "#y=sin(x)/x\n",
        "def f5(arr):\n",
        "\n",
        "  arr_temp= np.sin(arr)\n",
        "  return np.divide(arr_temp,arr)\n",
        "\n",
        "#y=log(x)\n",
        "def f6(arr):\n",
        "  return np.log(arr)\n",
        "\n",
        "#y=e^x\n",
        "def f7(arr):\n",
        "  return np.exp(arr)\n",
        "\n",
        "\n",
        "arr=np.arange(0.5,100.5,0.5)\n",
        "# print(arr)\n",
        "figure,axis= plt.subplots(3,3,figsize=(16,9))\n",
        "\n",
        "figure.delaxes(axis[2,0])\n",
        "figure.delaxes(axis[2,2])\n",
        "axis[0,0].plot(arr,f1(arr))\n",
        "axis[0,0].set_title(\"Part 1\")\n",
        "\n",
        "axis[0,1].plot(arr,f2(arr))\n",
        "axis[0,1].set_title(\"Part 2\")\n",
        "\n",
        "axis[0,2].plot(arr,f3(arr))\n",
        "axis[0,2].set_title(\"Part 3\")\n",
        "\n",
        "axis[1,0].plot(arr,f4(arr))\n",
        "axis[1,0].set_title(\"Part 4\")\n",
        "\n",
        "axis[1,1].plot(arr,f5(arr))\n",
        "axis[1,1].set_title(\"Part 5\")\n",
        "\n",
        "axis[1,2].plot(arr,f6(arr))\n",
        "axis[1,2].set_title(\"Part 6\")\n",
        "\n",
        "axis[2,1].plot(arr,f7(arr))\n",
        "axis[2,1].set_title(\"Part 7\")\n",
        "\n",
        "plt.subplots_adjust(left=0,\n",
        "                    bottom=0,\n",
        "                    right=0.9,\n",
        "                    top=1.5,\n",
        "                    wspace=0.4,\n",
        "                    hspace=0.4)\n",
        "plt.show()\n",
        "\n"
      ],
      "metadata": {
        "colab": {
          "base_uri": "https://localhost:8080/",
          "height": 1000
        },
        "id": "TMqN3WSSWiU6",
        "outputId": "39330647-2c89-4828-d7aa-00dcca4b6f80"
      },
      "execution_count": 29,
      "outputs": [
        {
          "output_type": "display_data",
          "data": {
            "text/plain": [
              "<Figure size 1152x648 with 7 Axes>"
            ],
            "image/png": "[encoded data removed]"
          },
          "metadata": {
            "needs_background": "light"
          }
        }
      ]
    },
    {
      "cell_type": "code",
      "source": [],
      "metadata": {
        "id": "nT9tCKbbefwr"
      },
      "execution_count": null,
      "outputs": []
    },
    {
      "cell_type": "markdown",
      "source": [
        "12.The way Numpy handles arrays with various shapes while performing arithmetic operations is known as broadcasting. The smaller array is \"broadcast\" across the larger array, subject to certain restrictions, ensuring that their forms match.\n"
      ],
      "metadata": {
        "id": "MpyKMXhLegff"
      }
    },
    {
      "cell_type": "code",
      "source": [
        "import numpy as np\n",
        "arr1 = np.array([1, 2, 3])\n",
        "arr2 = 5\n",
        "print(arr1*arr2)"
      ],
      "metadata": {
        "id": "XlGkHr1SeuhC",
        "colab": {
          "base_uri": "https://localhost:8080/"
        },
        "outputId": "4ac34f17-8681-48df-ce99-10042a8a3702"
      },
      "execution_count": 30,
      "outputs": [
        {
          "output_type": "stream",
          "name": "stdout",
          "text": [
            "[ 5 10 15]\n"
          ]
        }
      ]
    },
    {
      "cell_type": "markdown",
      "source": [
        "We can imagine the 5 being expanded into an array with the same shape as arr1 during the arithmetic operation. The new items are just copies of the initial scalar, as seen in Figure 1. Numpy analyses two arrays' shapes  when performing an operation. It moves leftward starting with the trailing (or farthest right) dimension. \n",
        "Two dimensions are compatible when : \n",
        "    1. One of them is 1, or,\n",
        "    2. They both are equal \n",
        "Otherwise they are not compatible and an error is thrown. \n",
        "\n",
        "Let's see both the compatible and non compatible dimension examples: \n"
      ],
      "metadata": {
        "id": "8XYjUb_KetD1"
      }
    },
    {
      "cell_type": "code",
      "source": [
        "import numpy as np\n",
        "\n",
        "#compatible\n",
        "arr1 = np.array([[ 1, 2, 3],[1, 2, 3],[1, 2, 3],[1, 2, 3]])\n",
        "arr2 = np.array([1, 2, 3])\n",
        "\n",
        "print(arr1*arr2)"
      ],
      "metadata": {
        "colab": {
          "base_uri": "https://localhost:8080/"
        },
        "id": "de9AQPbKgaJ7",
        "outputId": "f0542a6b-b344-4053-e10a-38aa00636179"
      },
      "execution_count": 31,
      "outputs": [
        {
          "output_type": "stream",
          "name": "stdout",
          "text": [
            "[[1 4 9]\n",
            " [1 4 9]\n",
            " [1 4 9]\n",
            " [1 4 9]]\n"
          ]
        }
      ]
    },
    {
      "cell_type": "code",
      "source": [
        "import numpy as np\n",
        "\n",
        "#not compatible\n",
        "\n",
        "arr1 = np.array([[ 1, 2, 3],[1, 2, 3],[1, 2, 3],[1, 2, 3]])\n",
        "arr2=np.array([1,2])\n",
        "print(arr1*arr2)"
      ],
      "metadata": {
        "id": "I9a3kQRrgvyk"
      },
      "execution_count": null,
      "outputs": []
    },
    {
      "cell_type": "markdown",
      "source": [
        "13."
      ],
      "metadata": {
        "id": "dbtY9jjdhyxI"
      }
    },
    {
      "cell_type": "code",
      "source": [
        "import numpy as np\n",
        "import random\n",
        "arr=np.random.rand(random.randint(0,100))\n",
        "n=arr.size\n",
        "\n",
        "min=arr[0]\n",
        "index =0 \n",
        "for i in range(1,n):\n",
        "  if(arr[i]<min):\n",
        "    min=arr[i]\n",
        "    index=i\n",
        "print(index)\n",
        "print(np.argmin(arr))\n",
        "\n",
        "if(index==np.argmin(arr)):\n",
        "  print(\"Solution is correct\")\n",
        "else:\n",
        "  print(\"Error\")"
      ],
      "metadata": {
        "colab": {
          "base_uri": "https://localhost:8080/"
        },
        "id": "bZhJmHvyhyM4",
        "outputId": "b50d36bb-1746-45a8-b942-0effc0e55ea5"
      },
      "execution_count": null,
      "outputs": [
        {
          "output_type": "stream",
          "name": "stdout",
          "text": [
            "46\n",
            "46\n",
            "Solution is correct\n"
          ]
        }
      ]
    }
  ]
}